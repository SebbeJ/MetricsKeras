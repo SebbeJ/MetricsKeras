{
 "cells": [
  {
   "cell_type": "code",
   "execution_count": 2,
   "metadata": {},
   "outputs": [],
   "source": [
    "import pandas as pd\n",
    "import numpy as np\n",
    "import matplotlib.pyplot as plt\n",
    "import seaborn as sns\n",
    "\n",
    "color = sns.color_palette(\"rocket\", 20)\n"
   ]
  },
  {
   "cell_type": "code",
   "execution_count": 3,
   "metadata": {},
   "outputs": [],
   "source": [
    "basic_full_flow_df = pd.read_csv('profile_results/basic_full_flow.py.csv')\n",
    "mnist_convnet_df = pd.read_csv('profile_results/demo_mnist_convnet.py.csv')\n",
    "functional_df = pd.read_csv('profile_results/demo_functional.py.csv')\n",
    "\n",
    "dfs = {\"basic_full_flow\": basic_full_flow_df, \n",
    "       \"demo_mnist_convnet\": mnist_convnet_df, \n",
    "       \"demo_functional\": functional_df\n",
    "       }"
   ]
  },
  {
   "cell_type": "markdown",
   "metadata": {},
   "source": [
    "### Preprocessing"
   ]
  },
  {
   "cell_type": "code",
   "execution_count": 4,
   "metadata": {},
   "outputs": [],
   "source": [
    "for i, df in dfs.items():\n",
    "    # Remove duplicate rows\n",
    "    df = df.drop_duplicates()\n",
    "    # Remove rows with no ncalls or tottime\n",
    "    df = df.dropna(subset=['ncalls', 'tottime'])\n",
    "    # Get total calls from ncalls (the larger number)\n",
    "    df['ncalls'] = df['ncalls'].apply(lambda x: int(x.split('/')[0].strip()))\n",
    "\n",
    "    # Change file filename:lineno(function) column name to function\n",
    "    df['function'] = df['filename:lineno(function)']\n",
    "    df = df.drop('filename:lineno(function)', axis=1)\n",
    "\n",
    "    # Sort by tottime\n",
    "    df = df.sort_values('tottime', ascending=False)\n",
    "\n",
    "    dfs[i] = df \n"
   ]
  },
  {
   "cell_type": "code",
   "execution_count": null,
   "metadata": {},
   "outputs": [],
   "source": [
    "for df in dfs.values():\n",
    "    print(df.head())\n",
    "    print('\\n\\n\\n')\n"
   ]
  },
  {
   "cell_type": "code",
   "execution_count": null,
   "metadata": {},
   "outputs": [],
   "source": [
    "# Make a total time df \n",
    "# It will three entries and sum the tottime for each \n",
    "total_time_df = pd.DataFrame(columns=['name', 'tottime'])\n",
    "for i, df in dfs.items():\n",
    "    total_time_df.loc[len(total_time_df)] = [i, df['tottime'].sum()]\n",
    "\n",
    "print(total_time_df)"
   ]
  },
  {
   "cell_type": "code",
   "execution_count": null,
   "metadata": {},
   "outputs": [],
   "source": [
    "# Plot the total time with a bar chart in seconds\n",
    "fig, ax = plt.subplots()\n",
    "\n",
    "sns.barplot(x='name', y='tottime', data=total_time_df, palette=color, ax=ax)\n",
    "ax.set_title('Total Time of each file')\n",
    "ax.set_ylabel('Seconds')\n",
    "ax.set_xlabel('File')\n",
    "\n",
    "fig.show()\n",
    "\n",
    "# Save the plot\n",
    "fig.savefig('total_time.png')"
   ]
  },
  {
   "cell_type": "code",
   "execution_count": 17,
   "metadata": {},
   "outputs": [],
   "source": [
    "# Modify the dfs to include the percentage of total time\n",
    "for i, df in dfs.items():\n",
    "    df['percentage'] = df['tottime'] / total_time_df.loc[total_time_df['name'] == i, 'tottime'].values[0]*100"
   ]
  },
  {
   "cell_type": "code",
   "execution_count": null,
   "metadata": {},
   "outputs": [],
   "source": [
    "# Use a subset of the data. 20 of the highest tottime functions are enough\n",
    "dfs_small = {k: v.head(20) for k, v in dfs.items()}\n",
    "# Plotting\n",
    "\n",
    "for name, df in dfs_small.items():\n",
    "    fig, ax = plt.subplots(figsize=(14, 9))\n",
    "\n",
    "    # Plot\n",
    "    sns.barplot(x='percentage', y='function', data=df, ax=ax, palette=color)\n",
    "    ax.set_title(f'Top 20 functions with highest Total time in {name}')\n",
    "    ax.set_xlabel('Total time in function as a percentage of total time in script')\n",
    "    # Put the y_label on the right side of the graph\n",
    "    ax.yaxis.tick_right()\n",
    "    ax.yaxis.set_label_position('right')\n",
    "    ax.set_ylabel('Function or file name')\n",
    "    ax.set_yticks(range(20))\n",
    "    ax.set_yticklabels(df['function'])\n",
    "\n",
    "    # Scale x-axis to log\n",
    "    #ax.set_xscale('log')\n",
    "\n",
    "    # Annotate the bars with the tottime\n",
    "    for p in ax.patches:\n",
    "        ax.annotate(f'{p.get_width():.2f}%', (p.get_width() * 1.00, p.get_y() + p.get_height() / 2), ha='left', va='center')\n",
    "    \n",
    "    plt.show()\n",
    "\n",
    "    #Save the plot\n",
    "    fig.savefig(f'profile_results/{name}_top20_tottime.png')\n",
    "        "
   ]
  },
  {
   "cell_type": "code",
   "execution_count": null,
   "metadata": {},
   "outputs": [],
   "source": [
    "# Plot the percentage of total time for each function in a pie chart in seaborn\n",
    "# Make a legend with the function name and the percentage of total time\n",
    "for name, df in dfs_small.items():\n",
    "    fig, ax = plt.subplots(figsize=(14, 9))\n",
    "    ax.pie(df['percentage'], autopct='%1.1f%%')\n",
    "    ax.legend(df['function'], title='Function', loc='center left', bbox_to_anchor=(1, 0, 0.5, 1))\n",
    "    ax.set_title(f'Percentage of total time in {name}')\n",
    "    plt.show()\n",
    "\n",
    "    # Save the plot\n",
    "    fig.savefig(f'profile_results/{name}_percentage_tottime.png')"
   ]
  },
  {
   "cell_type": "markdown",
   "metadata": {},
   "source": [
    "# Same as in the previous section, but now we look into the top 20 highest percall values."
   ]
  },
  {
   "cell_type": "code",
   "execution_count": null,
   "metadata": {},
   "outputs": [],
   "source": [
    "# Sort by percall instead of tottime\n",
    "for i, df in dfs.items():\n",
    "    df = df.sort_values('percall', ascending=False)\n",
    "    dfs[i] = df\n",
    "\n",
    "# Use a subset of the data. 20 of the highest percall functions are enough\n",
    "dfs_small = {k: v.head(20) for k, v in dfs.items()}\n",
    "\n",
    "# Plotting\n",
    "for name, df in dfs_small.items():\n",
    "    fig, ax = plt.subplots(figsize=(14, 9))\n",
    "\n",
    "    # Plot\n",
    "    sns.barplot(x='percall', y='function', data=df, ax=ax, palette=color)\n",
    "    ax.set_title(f'Top 20 functions with highest percall in {name}')\n",
    "    ax.set_xlabel('Average time spent in function per call (s)')\n",
    "    # Put the y_label on the right side of the graph\n",
    "    ax.yaxis.tick_right()\n",
    "    ax.yaxis.set_label_position('right')\n",
    "    ax.set_ylabel('Function or file name')\n",
    "    ax.set_yticks(range(20))\n",
    "    ax.set_yticklabels(df['function'])\n",
    "\n",
    "    # Scale x-axis to log\n",
    "    #ax.set_xscale('log')\n",
    "\n",
    "    # Annotate the bars with the tottime\n",
    "    for p in ax.patches:\n",
    "        ax.annotate(f'{p.get_width():.2f}', (p.get_width() * 1.00, p.get_y() + p.get_height() / 2), ha='left', va='center')\n",
    "    \n",
    "    plt.show()\n",
    "\n",
    "    #Save the plot\n",
    "    fig.savefig(f'profile_results/{name}_top20_percall.png')"
   ]
  },
  {
   "cell_type": "markdown",
   "metadata": {},
   "source": [
    "string>:1(module>) is top-level code in the entry-point Python script invoked. So if all your code is top-level in \"foo.py\" and you do python foo.py, then you'll see a high tottime for <string>:1(<module>). By \"top-level\", I mean not inside any function definition - just run directly. – \n",
    "Jean-Paul Calderone\n"
   ]
  },
  {
   "cell_type": "code",
   "execution_count": null,
   "metadata": {},
   "outputs": [],
   "source": []
  }
 ],
 "metadata": {
  "kernelspec": {
   "display_name": "Python 3",
   "language": "python",
   "name": "python3"
  },
  "language_info": {
   "codemirror_mode": {
    "name": "ipython",
    "version": 3
   },
   "file_extension": ".py",
   "mimetype": "text/x-python",
   "name": "python",
   "nbconvert_exporter": "python",
   "pygments_lexer": "ipython3",
   "version": "3.11.5"
  }
 },
 "nbformat": 4,
 "nbformat_minor": 2
}
